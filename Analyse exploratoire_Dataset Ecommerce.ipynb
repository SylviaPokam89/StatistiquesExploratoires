{
 "cells": [
  {
   "cell_type": "code",
   "execution_count": 91,
   "id": "db0fc059",
   "metadata": {},
   "outputs": [],
   "source": [
    "import pandas as pd"
   ]
  },
  {
   "cell_type": "code",
   "execution_count": 92,
   "id": "81359156",
   "metadata": {},
   "outputs": [],
   "source": [
    "import warnings\n",
    "warnings.filterwarnings('ignore')"
   ]
  },
  {
   "cell_type": "code",
   "execution_count": 93,
   "id": "bec468c5",
   "metadata": {},
   "outputs": [
    {
     "data": {
      "text/html": [
       "<div>\n",
       "<style scoped>\n",
       "    .dataframe tbody tr th:only-of-type {\n",
       "        vertical-align: middle;\n",
       "    }\n",
       "\n",
       "    .dataframe tbody tr th {\n",
       "        vertical-align: top;\n",
       "    }\n",
       "\n",
       "    .dataframe thead th {\n",
       "        text-align: right;\n",
       "    }\n",
       "</style>\n",
       "<table border=\"1\" class=\"dataframe\">\n",
       "  <thead>\n",
       "    <tr style=\"text-align: right;\">\n",
       "      <th></th>\n",
       "      <th>InvoiceNo</th>\n",
       "      <th>StockCode</th>\n",
       "      <th>Description</th>\n",
       "      <th>Quantity</th>\n",
       "      <th>InvoiceDate</th>\n",
       "      <th>UnitPrice</th>\n",
       "      <th>CustomerID</th>\n",
       "      <th>Country</th>\n",
       "      <th>Date</th>\n",
       "      <th>Year</th>\n",
       "      <th>Month</th>\n",
       "      <th>weekday</th>\n",
       "      <th>Day</th>\n",
       "      <th>TotalPrice</th>\n",
       "    </tr>\n",
       "  </thead>\n",
       "  <tbody>\n",
       "    <tr>\n",
       "      <th>0</th>\n",
       "      <td>536365</td>\n",
       "      <td>85123A</td>\n",
       "      <td>WHITE HANGING HEART T-LIGHT HOLDER</td>\n",
       "      <td>6</td>\n",
       "      <td>2010-12-01 08:26:00</td>\n",
       "      <td>2.55</td>\n",
       "      <td>17850.0</td>\n",
       "      <td>United Kingdom</td>\n",
       "      <td>2010-12-01</td>\n",
       "      <td>2010</td>\n",
       "      <td>12</td>\n",
       "      <td>2</td>\n",
       "      <td>Wednesday</td>\n",
       "      <td>15.30</td>\n",
       "    </tr>\n",
       "    <tr>\n",
       "      <th>1</th>\n",
       "      <td>536365</td>\n",
       "      <td>71053</td>\n",
       "      <td>WHITE METAL LANTERN</td>\n",
       "      <td>6</td>\n",
       "      <td>2010-12-01 08:26:00</td>\n",
       "      <td>3.39</td>\n",
       "      <td>17850.0</td>\n",
       "      <td>United Kingdom</td>\n",
       "      <td>2010-12-01</td>\n",
       "      <td>2010</td>\n",
       "      <td>12</td>\n",
       "      <td>2</td>\n",
       "      <td>Wednesday</td>\n",
       "      <td>20.34</td>\n",
       "    </tr>\n",
       "    <tr>\n",
       "      <th>2</th>\n",
       "      <td>536365</td>\n",
       "      <td>84406B</td>\n",
       "      <td>CREAM CUPID HEARTS COAT HANGER</td>\n",
       "      <td>8</td>\n",
       "      <td>2010-12-01 08:26:00</td>\n",
       "      <td>2.75</td>\n",
       "      <td>17850.0</td>\n",
       "      <td>United Kingdom</td>\n",
       "      <td>2010-12-01</td>\n",
       "      <td>2010</td>\n",
       "      <td>12</td>\n",
       "      <td>2</td>\n",
       "      <td>Wednesday</td>\n",
       "      <td>22.00</td>\n",
       "    </tr>\n",
       "    <tr>\n",
       "      <th>3</th>\n",
       "      <td>536365</td>\n",
       "      <td>84029G</td>\n",
       "      <td>KNITTED UNION FLAG HOT WATER BOTTLE</td>\n",
       "      <td>6</td>\n",
       "      <td>2010-12-01 08:26:00</td>\n",
       "      <td>3.39</td>\n",
       "      <td>17850.0</td>\n",
       "      <td>United Kingdom</td>\n",
       "      <td>2010-12-01</td>\n",
       "      <td>2010</td>\n",
       "      <td>12</td>\n",
       "      <td>2</td>\n",
       "      <td>Wednesday</td>\n",
       "      <td>20.34</td>\n",
       "    </tr>\n",
       "    <tr>\n",
       "      <th>4</th>\n",
       "      <td>536365</td>\n",
       "      <td>84029E</td>\n",
       "      <td>RED WOOLLY HOTTIE WHITE HEART.</td>\n",
       "      <td>6</td>\n",
       "      <td>2010-12-01 08:26:00</td>\n",
       "      <td>3.39</td>\n",
       "      <td>17850.0</td>\n",
       "      <td>United Kingdom</td>\n",
       "      <td>2010-12-01</td>\n",
       "      <td>2010</td>\n",
       "      <td>12</td>\n",
       "      <td>2</td>\n",
       "      <td>Wednesday</td>\n",
       "      <td>20.34</td>\n",
       "    </tr>\n",
       "  </tbody>\n",
       "</table>\n",
       "</div>"
      ],
      "text/plain": [
       "   InvoiceNo StockCode                          Description  Quantity  \\\n",
       "0     536365    85123A   WHITE HANGING HEART T-LIGHT HOLDER         6   \n",
       "1     536365     71053                  WHITE METAL LANTERN         6   \n",
       "2     536365    84406B       CREAM CUPID HEARTS COAT HANGER         8   \n",
       "3     536365    84029G  KNITTED UNION FLAG HOT WATER BOTTLE         6   \n",
       "4     536365    84029E       RED WOOLLY HOTTIE WHITE HEART.         6   \n",
       "\n",
       "           InvoiceDate  UnitPrice  CustomerID         Country        Date  \\\n",
       "0  2010-12-01 08:26:00       2.55     17850.0  United Kingdom  2010-12-01   \n",
       "1  2010-12-01 08:26:00       3.39     17850.0  United Kingdom  2010-12-01   \n",
       "2  2010-12-01 08:26:00       2.75     17850.0  United Kingdom  2010-12-01   \n",
       "3  2010-12-01 08:26:00       3.39     17850.0  United Kingdom  2010-12-01   \n",
       "4  2010-12-01 08:26:00       3.39     17850.0  United Kingdom  2010-12-01   \n",
       "\n",
       "   Year  Month  weekday        Day  TotalPrice  \n",
       "0  2010     12        2  Wednesday       15.30  \n",
       "1  2010     12        2  Wednesday       20.34  \n",
       "2  2010     12        2  Wednesday       22.00  \n",
       "3  2010     12        2  Wednesday       20.34  \n",
       "4  2010     12        2  Wednesday       20.34  "
      ]
     },
     "execution_count": 93,
     "metadata": {},
     "output_type": "execute_result"
    }
   ],
   "source": [
    "df = pd.read_csv(\"data_vente.csv\")\n",
    "df.head()"
   ]
  },
  {
   "cell_type": "code",
   "execution_count": 94,
   "id": "e4c4b8bb",
   "metadata": {},
   "outputs": [
    {
     "name": "stdout",
     "output_type": "stream",
     "text": [
      "<class 'pandas.core.frame.DataFrame'>\n",
      "RangeIndex: 392729 entries, 0 to 392728\n",
      "Data columns (total 14 columns):\n",
      " #   Column       Non-Null Count   Dtype  \n",
      "---  ------       --------------   -----  \n",
      " 0   InvoiceNo    392729 non-null  int64  \n",
      " 1   StockCode    392729 non-null  object \n",
      " 2   Description  392729 non-null  object \n",
      " 3   Quantity     392729 non-null  int64  \n",
      " 4   InvoiceDate  392729 non-null  object \n",
      " 5   UnitPrice    392729 non-null  float64\n",
      " 6   CustomerID   392729 non-null  float64\n",
      " 7   Country      392729 non-null  object \n",
      " 8   Date         392729 non-null  object \n",
      " 9   Year         392729 non-null  int64  \n",
      " 10  Month        392729 non-null  int64  \n",
      " 11  weekday      392729 non-null  int64  \n",
      " 12  Day          392729 non-null  object \n",
      " 13  TotalPrice   392729 non-null  float64\n",
      "dtypes: float64(3), int64(5), object(6)\n",
      "memory usage: 41.9+ MB\n"
     ]
    }
   ],
   "source": [
    "df.info()"
   ]
  },
  {
   "cell_type": "code",
   "execution_count": 95,
   "id": "423d76c8",
   "metadata": {},
   "outputs": [],
   "source": [
    "# certaines colonnes n'ont pas le bon dtype. \n",
    "df[\"InvoiceNo\"] = df[\"InvoiceNo\"].astype('O')\n",
    "df[\"Year\"] = df[\"Year\"].astype('O')\n",
    "df[\"CustomerID\"] = df[\"CustomerID\"].astype('O')\n",
    "df[\"Month\"] = df[\"Month\"].astype('O')\n",
    "df[\"weekday\"] = df[\"weekday\"].astype('O')"
   ]
  },
  {
   "cell_type": "code",
   "execution_count": 96,
   "id": "242bf570",
   "metadata": {},
   "outputs": [
    {
     "data": {
      "text/plain": [
       "InvoiceNo      0\n",
       "StockCode      0\n",
       "Description    0\n",
       "Quantity       0\n",
       "InvoiceDate    0\n",
       "UnitPrice      0\n",
       "CustomerID     0\n",
       "Country        0\n",
       "Date           0\n",
       "Year           0\n",
       "Month          0\n",
       "weekday        0\n",
       "Day            0\n",
       "TotalPrice     0\n",
       "dtype: int64"
      ]
     },
     "execution_count": 96,
     "metadata": {},
     "output_type": "execute_result"
    }
   ],
   "source": [
    "df.isna().sum()"
   ]
  },
  {
   "cell_type": "code",
   "execution_count": 97,
   "id": "fbd76fb5",
   "metadata": {},
   "outputs": [
    {
     "data": {
      "text/plain": [
       "0"
      ]
     },
     "execution_count": 97,
     "metadata": {},
     "output_type": "execute_result"
    }
   ],
   "source": [
    "df.duplicated().sum()"
   ]
  },
  {
   "cell_type": "markdown",
   "id": "ecaebb66",
   "metadata": {},
   "source": [
    "## Exploration des variables numériques"
   ]
  },
  {
   "cell_type": "code",
   "execution_count": 98,
   "id": "10205490",
   "metadata": {},
   "outputs": [],
   "source": [
    "# stockage des variable numériques dans un tableau num_df\n",
    "num_df = df[['Quantity','UnitPrice', 'TotalPrice']]"
   ]
  },
  {
   "cell_type": "code",
   "execution_count": 99,
   "id": "9110b055",
   "metadata": {},
   "outputs": [
    {
     "data": {
      "text/html": [
       "<div>\n",
       "<style scoped>\n",
       "    .dataframe tbody tr th:only-of-type {\n",
       "        vertical-align: middle;\n",
       "    }\n",
       "\n",
       "    .dataframe tbody tr th {\n",
       "        vertical-align: top;\n",
       "    }\n",
       "\n",
       "    .dataframe thead th {\n",
       "        text-align: right;\n",
       "    }\n",
       "</style>\n",
       "<table border=\"1\" class=\"dataframe\">\n",
       "  <thead>\n",
       "    <tr style=\"text-align: right;\">\n",
       "      <th></th>\n",
       "      <th>Quantity</th>\n",
       "      <th>UnitPrice</th>\n",
       "      <th>TotalPrice</th>\n",
       "    </tr>\n",
       "  </thead>\n",
       "  <tbody>\n",
       "    <tr>\n",
       "      <th>count</th>\n",
       "      <td>392729.000000</td>\n",
       "      <td>392729.000000</td>\n",
       "      <td>392729.000000</td>\n",
       "    </tr>\n",
       "    <tr>\n",
       "      <th>mean</th>\n",
       "      <td>12.726679</td>\n",
       "      <td>3.125611</td>\n",
       "      <td>22.003864</td>\n",
       "    </tr>\n",
       "    <tr>\n",
       "      <th>std</th>\n",
       "      <td>43.086667</td>\n",
       "      <td>22.240809</td>\n",
       "      <td>96.766053</td>\n",
       "    </tr>\n",
       "    <tr>\n",
       "      <th>min</th>\n",
       "      <td>1.000000</td>\n",
       "      <td>0.000000</td>\n",
       "      <td>0.000000</td>\n",
       "    </tr>\n",
       "    <tr>\n",
       "      <th>25%</th>\n",
       "      <td>2.000000</td>\n",
       "      <td>1.250000</td>\n",
       "      <td>4.950000</td>\n",
       "    </tr>\n",
       "    <tr>\n",
       "      <th>50%</th>\n",
       "      <td>6.000000</td>\n",
       "      <td>1.950000</td>\n",
       "      <td>12.390000</td>\n",
       "    </tr>\n",
       "    <tr>\n",
       "      <th>75%</th>\n",
       "      <td>12.000000</td>\n",
       "      <td>3.750000</td>\n",
       "      <td>19.800000</td>\n",
       "    </tr>\n",
       "    <tr>\n",
       "      <th>max</th>\n",
       "      <td>4800.000000</td>\n",
       "      <td>8142.750000</td>\n",
       "      <td>38970.000000</td>\n",
       "    </tr>\n",
       "  </tbody>\n",
       "</table>\n",
       "</div>"
      ],
      "text/plain": [
       "            Quantity      UnitPrice     TotalPrice\n",
       "count  392729.000000  392729.000000  392729.000000\n",
       "mean       12.726679       3.125611      22.003864\n",
       "std        43.086667      22.240809      96.766053\n",
       "min         1.000000       0.000000       0.000000\n",
       "25%         2.000000       1.250000       4.950000\n",
       "50%         6.000000       1.950000      12.390000\n",
       "75%        12.000000       3.750000      19.800000\n",
       "max      4800.000000    8142.750000   38970.000000"
      ]
     },
     "execution_count": 99,
     "metadata": {},
     "output_type": "execute_result"
    }
   ],
   "source": [
    "num_df.describe()"
   ]
  },
  {
   "cell_type": "code",
   "execution_count": 100,
   "id": "7bf17493",
   "metadata": {},
   "outputs": [],
   "source": [
    "# Variable Quantity: \n",
    "# la moyenne des quantités de ventes est de 12.7\n",
    "# on observe un très large écart entre le min=1 et le max=4800, ce qui renseigne sur l'hétérogénéité des quantités des commandes"
   ]
  },
  {
   "cell_type": "code",
   "execution_count": 101,
   "id": "2db81b80",
   "metadata": {},
   "outputs": [],
   "source": [
    "# Variable UnitPrice:\n",
    "#suppression des lignes avec UnitPrice=0\n",
    "df = df[df[\"UnitPrice\"] != 0]"
   ]
  },
  {
   "cell_type": "code",
   "execution_count": 103,
   "id": "3599f3ef",
   "metadata": {},
   "outputs": [
    {
     "name": "stdout",
     "output_type": "stream",
     "text": [
      "0.001\n",
      "8142.75\n"
     ]
    }
   ],
   "source": [
    "print(df['UnitPrice'].min())\n",
    "print(df['UnitPrice'].max())"
   ]
  },
  {
   "cell_type": "markdown",
   "id": "2a7311f4",
   "metadata": {},
   "source": [
    "## Exploration des variables catégorielles"
   ]
  },
  {
   "cell_type": "code",
   "execution_count": 104,
   "id": "4bb7ab52",
   "metadata": {},
   "outputs": [
    {
     "data": {
      "text/html": [
       "<div>\n",
       "<style scoped>\n",
       "    .dataframe tbody tr th:only-of-type {\n",
       "        vertical-align: middle;\n",
       "    }\n",
       "\n",
       "    .dataframe tbody tr th {\n",
       "        vertical-align: top;\n",
       "    }\n",
       "\n",
       "    .dataframe thead th {\n",
       "        text-align: right;\n",
       "    }\n",
       "</style>\n",
       "<table border=\"1\" class=\"dataframe\">\n",
       "  <thead>\n",
       "    <tr style=\"text-align: right;\">\n",
       "      <th></th>\n",
       "      <th>InvoiceNo</th>\n",
       "      <th>StockCode</th>\n",
       "      <th>Description</th>\n",
       "      <th>CustomerID</th>\n",
       "      <th>Country</th>\n",
       "      <th>Month</th>\n",
       "      <th>Day</th>\n",
       "    </tr>\n",
       "  </thead>\n",
       "  <tbody>\n",
       "    <tr>\n",
       "      <th>0</th>\n",
       "      <td>536365</td>\n",
       "      <td>85123A</td>\n",
       "      <td>WHITE HANGING HEART T-LIGHT HOLDER</td>\n",
       "      <td>17850.0</td>\n",
       "      <td>United Kingdom</td>\n",
       "      <td>12</td>\n",
       "      <td>Wednesday</td>\n",
       "    </tr>\n",
       "    <tr>\n",
       "      <th>1</th>\n",
       "      <td>536365</td>\n",
       "      <td>71053</td>\n",
       "      <td>WHITE METAL LANTERN</td>\n",
       "      <td>17850.0</td>\n",
       "      <td>United Kingdom</td>\n",
       "      <td>12</td>\n",
       "      <td>Wednesday</td>\n",
       "    </tr>\n",
       "    <tr>\n",
       "      <th>2</th>\n",
       "      <td>536365</td>\n",
       "      <td>84406B</td>\n",
       "      <td>CREAM CUPID HEARTS COAT HANGER</td>\n",
       "      <td>17850.0</td>\n",
       "      <td>United Kingdom</td>\n",
       "      <td>12</td>\n",
       "      <td>Wednesday</td>\n",
       "    </tr>\n",
       "    <tr>\n",
       "      <th>3</th>\n",
       "      <td>536365</td>\n",
       "      <td>84029G</td>\n",
       "      <td>KNITTED UNION FLAG HOT WATER BOTTLE</td>\n",
       "      <td>17850.0</td>\n",
       "      <td>United Kingdom</td>\n",
       "      <td>12</td>\n",
       "      <td>Wednesday</td>\n",
       "    </tr>\n",
       "    <tr>\n",
       "      <th>4</th>\n",
       "      <td>536365</td>\n",
       "      <td>84029E</td>\n",
       "      <td>RED WOOLLY HOTTIE WHITE HEART.</td>\n",
       "      <td>17850.0</td>\n",
       "      <td>United Kingdom</td>\n",
       "      <td>12</td>\n",
       "      <td>Wednesday</td>\n",
       "    </tr>\n",
       "  </tbody>\n",
       "</table>\n",
       "</div>"
      ],
      "text/plain": [
       "  InvoiceNo StockCode                          Description CustomerID  \\\n",
       "0    536365    85123A   WHITE HANGING HEART T-LIGHT HOLDER    17850.0   \n",
       "1    536365     71053                  WHITE METAL LANTERN    17850.0   \n",
       "2    536365    84406B       CREAM CUPID HEARTS COAT HANGER    17850.0   \n",
       "3    536365    84029G  KNITTED UNION FLAG HOT WATER BOTTLE    17850.0   \n",
       "4    536365    84029E       RED WOOLLY HOTTIE WHITE HEART.    17850.0   \n",
       "\n",
       "          Country Month        Day  \n",
       "0  United Kingdom    12  Wednesday  \n",
       "1  United Kingdom    12  Wednesday  \n",
       "2  United Kingdom    12  Wednesday  \n",
       "3  United Kingdom    12  Wednesday  \n",
       "4  United Kingdom    12  Wednesday  "
      ]
     },
     "execution_count": 104,
     "metadata": {},
     "output_type": "execute_result"
    }
   ],
   "source": [
    "# stockage des variables catégorielles dans un tableau cat_df\n",
    "cat_df = df[[\"InvoiceNo\", \"StockCode\", \"Description\", \"CustomerID\", \"Country\", \"Month\", \"Day\"]]\n",
    "cat_df.head()"
   ]
  },
  {
   "cell_type": "code",
   "execution_count": 105,
   "id": "652721fe",
   "metadata": {},
   "outputs": [
    {
     "data": {
      "text/html": [
       "<div>\n",
       "<style scoped>\n",
       "    .dataframe tbody tr th:only-of-type {\n",
       "        vertical-align: middle;\n",
       "    }\n",
       "\n",
       "    .dataframe tbody tr th {\n",
       "        vertical-align: top;\n",
       "    }\n",
       "\n",
       "    .dataframe thead th {\n",
       "        text-align: right;\n",
       "    }\n",
       "</style>\n",
       "<table border=\"1\" class=\"dataframe\">\n",
       "  <thead>\n",
       "    <tr style=\"text-align: right;\">\n",
       "      <th></th>\n",
       "      <th>InvoiceNo</th>\n",
       "      <th>StockCode</th>\n",
       "      <th>Description</th>\n",
       "      <th>CustomerID</th>\n",
       "      <th>Country</th>\n",
       "      <th>Month</th>\n",
       "      <th>Day</th>\n",
       "    </tr>\n",
       "  </thead>\n",
       "  <tbody>\n",
       "    <tr>\n",
       "      <th>count</th>\n",
       "      <td>392690</td>\n",
       "      <td>392690</td>\n",
       "      <td>392690</td>\n",
       "      <td>392690.0</td>\n",
       "      <td>392690</td>\n",
       "      <td>392690</td>\n",
       "      <td>392690</td>\n",
       "    </tr>\n",
       "    <tr>\n",
       "      <th>unique</th>\n",
       "      <td>18530</td>\n",
       "      <td>3664</td>\n",
       "      <td>3876</td>\n",
       "      <td>4337.0</td>\n",
       "      <td>37</td>\n",
       "      <td>12</td>\n",
       "      <td>6</td>\n",
       "    </tr>\n",
       "    <tr>\n",
       "      <th>top</th>\n",
       "      <td>576339</td>\n",
       "      <td>85123A</td>\n",
       "      <td>WHITE HANGING HEART T-LIGHT HOLDER</td>\n",
       "      <td>17841.0</td>\n",
       "      <td>United Kingdom</td>\n",
       "      <td>11</td>\n",
       "      <td>Thursday</td>\n",
       "    </tr>\n",
       "    <tr>\n",
       "      <th>freq</th>\n",
       "      <td>542</td>\n",
       "      <td>2023</td>\n",
       "      <td>2016</td>\n",
       "      <td>7676.0</td>\n",
       "      <td>349201</td>\n",
       "      <td>63168</td>\n",
       "      <td>79243</td>\n",
       "    </tr>\n",
       "  </tbody>\n",
       "</table>\n",
       "</div>"
      ],
      "text/plain": [
       "        InvoiceNo StockCode                         Description  CustomerID  \\\n",
       "count      392690    392690                              392690    392690.0   \n",
       "unique      18530      3664                                3876      4337.0   \n",
       "top        576339    85123A  WHITE HANGING HEART T-LIGHT HOLDER     17841.0   \n",
       "freq          542      2023                                2016      7676.0   \n",
       "\n",
       "               Country   Month       Day  \n",
       "count           392690  392690    392690  \n",
       "unique              37      12         6  \n",
       "top     United Kingdom      11  Thursday  \n",
       "freq            349201   63168     79243  "
      ]
     },
     "execution_count": 105,
     "metadata": {},
     "output_type": "execute_result"
    }
   ],
   "source": [
    "# application de la methode describe sur les variables catégorielles\n",
    "cat_df.describe()"
   ]
  },
  {
   "cell_type": "code",
   "execution_count": 106,
   "id": "5f55ddc5",
   "metadata": {},
   "outputs": [],
   "source": [
    "# De la variable \"StockCode\" qui référencie les différents codes des produits vendus, on peut observer que le code produit \n",
    "# le plus vendu = 85123A. ce code produit apparaît 2023 fois dans le dataset\n",
    "# Notons qu'un même code produit contient plusieurs dérivés de produits différents"
   ]
  },
  {
   "cell_type": "code",
   "execution_count": 107,
   "id": "d8499cbf",
   "metadata": {},
   "outputs": [],
   "source": [
    "# la variable \"Description\" indique 3876 descriptions de produits différents. La description du produit le plus vendu est:\n",
    "# WHITE HANGING HEART T-LIGHT HOLDER"
   ]
  },
  {
   "cell_type": "code",
   "execution_count": 108,
   "id": "fc134e52",
   "metadata": {},
   "outputs": [],
   "source": [
    "# le variable \"CustomerID\" indique que le dataset contient 4337 client différents\n",
    "# Le client le plus fidèle possède un CustomerID = 17841.0"
   ]
  },
  {
   "cell_type": "code",
   "execution_count": 109,
   "id": "2b8e1f01",
   "metadata": {},
   "outputs": [
    {
     "data": {
      "text/plain": [
       "array(['United Kingdom', 'France', 'Australia', 'Netherlands', 'Germany',\n",
       "       'Norway', 'EIRE', 'Switzerland', 'Spain', 'Poland', 'Portugal',\n",
       "       'Italy', 'Belgium', 'Lithuania', 'Japan', 'Iceland',\n",
       "       'Channel Islands', 'Denmark', 'Cyprus', 'Sweden', 'Finland',\n",
       "       'Austria', 'Greece', 'Singapore', 'Lebanon',\n",
       "       'United Arab Emirates', 'Israel', 'Saudi Arabia', 'Czech Republic',\n",
       "       'Canada', 'Unspecified', 'Brazil', 'USA', 'European Community',\n",
       "       'Bahrain', 'Malta', 'RSA'], dtype=object)"
      ]
     },
     "execution_count": 109,
     "metadata": {},
     "output_type": "execute_result"
    }
   ],
   "source": [
    "# la variable \"Country\" indique 37 pays différents. \n",
    "cat_df[\"Country\"].unique()\n",
    "# Notons que dans la liste des pays, il existe un pays nommé 'Unspecified'. Ce qui veut dire que les commandes faites avec cette\n",
    "# peuvent être fait de n'importe où dans le monde. "
   ]
  },
  {
   "cell_type": "code",
   "execution_count": 110,
   "id": "467d577c",
   "metadata": {},
   "outputs": [
    {
     "name": "stdout",
     "output_type": "stream",
     "text": [
      "Nombre de commandes avec country = 'Unspecified': 241\n",
      "Pourcentage de ces commandes: 0.06137156535689729\n"
     ]
    }
   ],
   "source": [
    "# regardons le nombre de commandes effectué avec Country = 'Unspecified'\n",
    "print (\"Nombre de commandes avec country = 'Unspecified':\", df[df['Country']=='Unspecified'].shape[0])\n",
    "print (\"Pourcentage de ces commandes:\", (df[df['Country']=='Unspecified'].shape[0]/len(df))*100)\n",
    "# ces valeurs ne représentent que 0.06% des commandes totales, ce qui est donc négligeable par rapport au total des commandes"
   ]
  },
  {
   "cell_type": "code",
   "execution_count": 111,
   "id": "aa35363e",
   "metadata": {},
   "outputs": [],
   "source": [
    "# nous allons pour plus de clarté dans nos analyses, supprimer les lignes de commandes avec Country = 'Unspecified'\n",
    "df = df[df['Country']!= 'Unspecified']"
   ]
  },
  {
   "cell_type": "code",
   "execution_count": 112,
   "id": "ee13d60f",
   "metadata": {},
   "outputs": [],
   "source": [
    "# dans le tableau describe, on remarque pour finir que le mois de plus forte affluence est novmebre, et le jour = jeudi."
   ]
  },
  {
   "cell_type": "markdown",
   "id": "b6ea149d",
   "metadata": {},
   "source": [
    "### Inspection d'anomalies dans les variables catégorielles"
   ]
  },
  {
   "cell_type": "code",
   "execution_count": 113,
   "id": "2e805168",
   "metadata": {},
   "outputs": [
    {
     "data": {
      "text/html": [
       "<div>\n",
       "<style scoped>\n",
       "    .dataframe tbody tr th:only-of-type {\n",
       "        vertical-align: middle;\n",
       "    }\n",
       "\n",
       "    .dataframe tbody tr th {\n",
       "        vertical-align: top;\n",
       "    }\n",
       "\n",
       "    .dataframe thead th {\n",
       "        text-align: right;\n",
       "    }\n",
       "</style>\n",
       "<table border=\"1\" class=\"dataframe\">\n",
       "  <thead>\n",
       "    <tr style=\"text-align: right;\">\n",
       "      <th></th>\n",
       "      <th>InvoiceNo</th>\n",
       "      <th>StockCode</th>\n",
       "      <th>Description</th>\n",
       "      <th>CustomerID</th>\n",
       "      <th>Country</th>\n",
       "      <th>Month</th>\n",
       "      <th>Day</th>\n",
       "    </tr>\n",
       "  </thead>\n",
       "  <tbody>\n",
       "    <tr>\n",
       "      <th>0</th>\n",
       "      <td>536365</td>\n",
       "      <td>85123A</td>\n",
       "      <td>WHITE HANGING HEART T-LIGHT HOLDER</td>\n",
       "      <td>17850.0</td>\n",
       "      <td>United Kingdom</td>\n",
       "      <td>12</td>\n",
       "      <td>Wednesday</td>\n",
       "    </tr>\n",
       "    <tr>\n",
       "      <th>1</th>\n",
       "      <td>536365</td>\n",
       "      <td>71053</td>\n",
       "      <td>WHITE METAL LANTERN</td>\n",
       "      <td>17850.0</td>\n",
       "      <td>United Kingdom</td>\n",
       "      <td>12</td>\n",
       "      <td>Wednesday</td>\n",
       "    </tr>\n",
       "    <tr>\n",
       "      <th>2</th>\n",
       "      <td>536365</td>\n",
       "      <td>84406B</td>\n",
       "      <td>CREAM CUPID HEARTS COAT HANGER</td>\n",
       "      <td>17850.0</td>\n",
       "      <td>United Kingdom</td>\n",
       "      <td>12</td>\n",
       "      <td>Wednesday</td>\n",
       "    </tr>\n",
       "    <tr>\n",
       "      <th>3</th>\n",
       "      <td>536365</td>\n",
       "      <td>84029G</td>\n",
       "      <td>KNITTED UNION FLAG HOT WATER BOTTLE</td>\n",
       "      <td>17850.0</td>\n",
       "      <td>United Kingdom</td>\n",
       "      <td>12</td>\n",
       "      <td>Wednesday</td>\n",
       "    </tr>\n",
       "    <tr>\n",
       "      <th>4</th>\n",
       "      <td>536365</td>\n",
       "      <td>84029E</td>\n",
       "      <td>RED WOOLLY HOTTIE WHITE HEART.</td>\n",
       "      <td>17850.0</td>\n",
       "      <td>United Kingdom</td>\n",
       "      <td>12</td>\n",
       "      <td>Wednesday</td>\n",
       "    </tr>\n",
       "  </tbody>\n",
       "</table>\n",
       "</div>"
      ],
      "text/plain": [
       "  InvoiceNo StockCode                          Description CustomerID  \\\n",
       "0    536365    85123A   WHITE HANGING HEART T-LIGHT HOLDER    17850.0   \n",
       "1    536365     71053                  WHITE METAL LANTERN    17850.0   \n",
       "2    536365    84406B       CREAM CUPID HEARTS COAT HANGER    17850.0   \n",
       "3    536365    84029G  KNITTED UNION FLAG HOT WATER BOTTLE    17850.0   \n",
       "4    536365    84029E       RED WOOLLY HOTTIE WHITE HEART.    17850.0   \n",
       "\n",
       "          Country Month        Day  \n",
       "0  United Kingdom    12  Wednesday  \n",
       "1  United Kingdom    12  Wednesday  \n",
       "2  United Kingdom    12  Wednesday  \n",
       "3  United Kingdom    12  Wednesday  \n",
       "4  United Kingdom    12  Wednesday  "
      ]
     },
     "execution_count": 113,
     "metadata": {},
     "output_type": "execute_result"
    }
   ],
   "source": [
    "cat_df.head()"
   ]
  },
  {
   "cell_type": "code",
   "execution_count": 114,
   "id": "ce4720d1",
   "metadata": {},
   "outputs": [],
   "source": [
    "# Variable \"StockCode\": cette variable montre un standard d'annotation de 5 chiffres, avec éventuellement une lettre après ces chiffres\n",
    "\n",
    "# regardons s'il existe d'autres types d'annotations en jouant sur la longeur des différentes chaines de caractères:"
   ]
  },
  {
   "cell_type": "code",
   "execution_count": 115,
   "id": "a33433d3",
   "metadata": {},
   "outputs": [
    {
     "data": {
      "text/plain": [
       "array(['POST', 'C2', 'M', 'PADS', 'DOT'], dtype=object)"
      ]
     },
     "execution_count": 115,
     "metadata": {},
     "output_type": "execute_result"
    }
   ],
   "source": [
    "# entrées avec StockCode inférieure à 5 chaines de caractères:\n",
    "df[df['StockCode'].apply(lambda X: len(X)<5)]['StockCode'].unique()\n",
    "\n",
    "# l'information la plus importante ici est qu'il y a des sctockcode avec la lettre \"M\", qui indique des commandes enrégistrées manuellement"
   ]
  },
  {
   "cell_type": "code",
   "execution_count": 116,
   "id": "82b7f73c",
   "metadata": {},
   "outputs": [
    {
     "data": {
      "text/plain": [
       "array(['15056BL', 'BANK CHARGES'], dtype=object)"
      ]
     },
     "execution_count": 116,
     "metadata": {},
     "output_type": "execute_result"
    }
   ],
   "source": [
    "# entrées avec StockCode supérieure à 6 chaines de caractères:\n",
    "df[df['StockCode'].apply(lambda X: len(X)>6)]['StockCode'].unique()\n",
    "\n",
    "# ici rien de spécial à tirer"
   ]
  },
  {
   "cell_type": "code",
   "execution_count": 117,
   "id": "37ad7953",
   "metadata": {},
   "outputs": [
    {
     "data": {
      "text/plain": [
       "array(['Manual'], dtype=object)"
      ]
     },
     "execution_count": 117,
     "metadata": {},
     "output_type": "execute_result"
    }
   ],
   "source": [
    "# Variable \"Description\"\n",
    "df[df['Description'].apply(lambda X: len(X)<=6)]['Description'].unique()\n",
    "\n",
    "# information importante: il existe des descriptions \"Manual\", qui indique des commandes enregistrées manuellement"
   ]
  },
  {
   "cell_type": "code",
   "execution_count": 118,
   "id": "e2396b66",
   "metadata": {},
   "outputs": [],
   "source": [
    "# décision de supprimer les lignes de commandes enregistrées manuellement, car aucune information sur la description du produit\n",
    "df = df[df['Description'] != 'Manual']"
   ]
  },
  {
   "cell_type": "code",
   "execution_count": 119,
   "id": "301b5065",
   "metadata": {},
   "outputs": [
    {
     "name": "stdout",
     "output_type": "stream",
     "text": [
      "536365\n",
      "581587\n",
      "12347.0\n",
      "18287.0\n"
     ]
    }
   ],
   "source": [
    "print(df['InvoiceNo'].min())\n",
    "print(df['InvoiceNo'].max())\n",
    "print(df['CustomerID'].min())\n",
    "print(df['CustomerID'].max())\n",
    "# les variables \"InvoiceNo\" et \"CustomerID\" ne présentent pas d'anomalies"
   ]
  },
  {
   "cell_type": "code",
   "execution_count": 120,
   "id": "784463cc",
   "metadata": {},
   "outputs": [],
   "source": [
    "# sauvegarde du dataset qui est à présent prêt pour une data visualisation\n",
    "# la section data Viz sera présentée dans un autre notebook_DataViz\n",
    "df.to_csv('data_vente.csv', index=False)"
   ]
  },
  {
   "cell_type": "code",
   "execution_count": null,
   "id": "f61ff143",
   "metadata": {},
   "outputs": [],
   "source": []
  }
 ],
 "metadata": {
  "kernelspec": {
   "display_name": "Python 3",
   "language": "python",
   "name": "python3"
  },
  "language_info": {
   "codemirror_mode": {
    "name": "ipython",
    "version": 3
   },
   "file_extension": ".py",
   "mimetype": "text/x-python",
   "name": "python",
   "nbconvert_exporter": "python",
   "pygments_lexer": "ipython3",
   "version": "3.8.8"
  }
 },
 "nbformat": 4,
 "nbformat_minor": 5
}
